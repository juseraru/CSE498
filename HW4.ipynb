{
 "cells": [
  {
   "cell_type": "markdown",
   "id": "af4e1cd4",
   "metadata": {},
   "source": [
    "# GRID WORLD MultiAgent\n",
    "\n",
    "### first the simple single agent with policy interation"
   ]
  },
  {
   "cell_type": "code",
   "execution_count": 1,
   "id": "5ca4d5b3",
   "metadata": {},
   "outputs": [
    {
     "data": {
      "text/plain": [
       "array([[0., 2., 2., 2., 2.],\n",
       "       [1., 1., 1., 0., 3.],\n",
       "       [1., 1., 0., 0., 3.],\n",
       "       [1., 0., 0., 0., 3.],\n",
       "       [0., 0., 0., 0., 0.]])"
      ]
     },
     "execution_count": 1,
     "metadata": {},
     "output_type": "execute_result"
    }
   ],
   "source": [
    "import matplotlib.pyplot as plt\n",
    "import numpy as np\n",
    "import itertools\n",
    "\n",
    "WS = 5\n",
    "\n",
    "# right, up, left, down\n",
    "#  0     1     2     3\n",
    "A = [np.array([0, 1]),\n",
    "     np.array([-1, 0]),\n",
    "     np.array([0, -1]),\n",
    "     np.array([1, 0])]\n",
    "\n",
    "AP = 0.25\n",
    "\n",
    "def is_terminal(state):\n",
    "    x, y = state\n",
    "    return (x == 0 and y == 0) or (x == WS - 1 and y == WS - 1)\n",
    "\n",
    "def step(state, action):\n",
    "    if is_terminal(state):\n",
    "        return state, 0\n",
    "\n",
    "    next_state = state + action\n",
    "    x, y = next_state\n",
    "\n",
    "    if x < 0 or x >= WS or y < 0 or y >= WS:\n",
    "        # if agent gets to wall stays in same cell\n",
    "        next_state = state\n",
    "\n",
    "    reward = -1\n",
    "    return next_state, reward\n",
    "\n",
    "\n",
    "values = np.zeros((WS,WS))\n",
    "theta = 1e-6\n",
    "disc = 1\n",
    "\n",
    "def valueEvaluation(values, qs, disc, theta, A=A, WS = WS):\n",
    "    new_v = np.zeros_like(values)\n",
    "    while True:\n",
    "        delta = 0\n",
    "        ### i j to walk through all states once.\n",
    "        for i in range(WS):\n",
    "            for j in range(WS):\n",
    "                v = 0\n",
    "                a = int(qs[i,j])\n",
    "                state = np.array([i,j])\n",
    "                n_state, reward = step(state,A[a])\n",
    "                new_v[i,j] = AP * (reward + disc*values[n_state[0],n_state[1]])    \n",
    "        delta = abs(values - new_v).max()\n",
    "        values = np.copy(new_v)\n",
    "        #print(delta)\n",
    "        if delta < theta:\n",
    "            return values\n",
    "    \n",
    "\n",
    "def policyIteration(values, qs, disc, theta, A=A, WS = WS):\n",
    "    stable = False\n",
    "    q = np.zeros_like(qs)\n",
    "    while not stable:\n",
    "        v = valueEvaluation(values,q,disc,theta, A, WS)\n",
    "        #print('values',v)\n",
    "        for i in range(WS):\n",
    "                for j in range(WS):\n",
    "                    best_a_in_s = np.zeros(len(A))\n",
    "                    state = np.array([i,j])\n",
    "                    for ai, a in enumerate(A):\n",
    "                        n_state, reward = step(state,a)\n",
    "                        d = disc*v[n_state[0],n_state[1]]\n",
    "                        #print(reward, d)\n",
    "                        best_a_in_s[ai] = reward + d\n",
    "                    #print('v in s',best_a_in_s)\n",
    "                    q[i,j] = np.argmax(best_a_in_s)\n",
    "        #print('q',q)\n",
    "        prepo = abs(q-qs)<theta\n",
    "        #print(prepo)\n",
    "        if np.all(prepo): \n",
    "            stable = True\n",
    "        qs = np.copy(q)\n",
    "    return qs\n",
    "\n",
    "qs = np.zeros((WS,WS)) #np.random.randint(0,4,(WS,WS))\n",
    "\n",
    "policyIteration(values, qs, disc, theta)"
   ]
  },
  {
   "cell_type": "markdown",
   "id": "2d0860fd",
   "metadata": {},
   "source": [
    "# gym-gridMA"
   ]
  },
  {
   "cell_type": "code",
   "execution_count": 30,
   "id": "8874edc6",
   "metadata": {},
   "outputs": [],
   "source": [
    "import gym\n",
    "from gym import spaces\n",
    "import pygame\n",
    "import numpy as np\n",
    "\n",
    "\n",
    "class MAGridWorldEnv(gym.Env):\n",
    "    metadata = {\"render_modes\": [\"human\", \"rgb_array\"], \"render_fps\": 4}\n",
    "\n",
    "    def __init__(self, render_mode=None, size=5, n_agents=1):\n",
    "        self.size = size  # The size of the square grid\n",
    "        self.window_size = 512  # The size of the PyGame window\n",
    "\n",
    "        # Observations are dictionaries with the agent's and the target's location.\n",
    "        # Each location is encoded as an element of {0, ..., `size`}^2, i.e. MultiDiscrete([size, size]).\n",
    "        self.observation_space = spaces.Dict(\n",
    "            {\n",
    "                \"agent\": spaces.Box(0, size - 1, shape=(2,), dtype=int),\n",
    "                \"target\": spaces.Box(0, size - 1, shape=(2,), dtype=int),\n",
    "            }\n",
    "        )\n",
    "        self.number_agents = n_agents\n",
    "        # We have 4 actions, corresponding to \"right\", \"up\", \"left\", \"down\"\n",
    "        if self.number_agents == 1:\n",
    "            self.action_space = spaces.Discrete(5)\n",
    "        else:\n",
    "            self.action_space = [spaces.Discrete(5) for _ in range(self.number_agents)]\n",
    "           \n",
    "        self._target_location = [np.array([0,0]),np.array([size-1,size-1])]\n",
    "\n",
    "        \"\"\"\n",
    "        The following dictionary maps abstract actions from `self.action_space` to \n",
    "        the direction we will walk in if that action is taken.\n",
    "        I.e. 0 corresponds to \"right\", 1 to \"up\" etc.\n",
    "        \"\"\"\n",
    "        self._action_to_direction = {\n",
    "            0: np.array([1, 0]),\n",
    "            1: np.array([0, 1]),\n",
    "            2: np.array([-1, 0]),\n",
    "            3: np.array([0, -1]),\n",
    "            4: np.array([0, 0]),\n",
    "        }\n",
    "\n",
    "        assert render_mode is None or render_mode in self.metadata[\"render_modes\"]\n",
    "        self.render_mode = render_mode\n",
    "\n",
    "        \"\"\"\n",
    "        If human-rendering is used, `self.window` will be a reference\n",
    "        to the window that we draw to. `self.clock` will be a clock that is used\n",
    "        to ensure that the environment is rendered at the correct framerate in\n",
    "        human-mode. They will remain `None` until human-mode is used for the\n",
    "        first time.\n",
    "        \"\"\"\n",
    "        self.window = None\n",
    "        self.clock = None\n",
    "        \n",
    "    def _get_obs(self):\n",
    "        return self._agent_location\n",
    "\n",
    "    def check(self, temp):\n",
    "        for i in range(len(self._target_location)):\n",
    "            if np.array_equal(temp, self._target_location[i]):\n",
    "                return True\n",
    "        for i in range(len(self._agent_location)):\n",
    "            if np.array_equal(temp, self._agent_location[i]):\n",
    "                return True\n",
    "        return False\n",
    "    \n",
    "    def reset(self, seed=None):\n",
    "        # We need the following line to seed self.np_random\n",
    "        super().reset(seed=seed)\n",
    "        \n",
    "        self.window = None\n",
    "        self.clock = None\n",
    "        \n",
    "        # Choose the agent's location uniformly at random\n",
    "        if self.number_agents==1:\n",
    "            self._agent_location = self.np_random.integers(0, self.size, size=2, dtype=int)\n",
    "        else:\n",
    "            self._agent_location = []\n",
    "            for _ in range(self.number_agents):\n",
    "                temp = self.np_random.integers(0, self.size, size=2, dtype=int)\n",
    "                while self.check(temp):\n",
    "                    temp = self.np_random.integers(0, self.size, size=2, dtype=int)\n",
    "                self._agent_location.append(temp)\n",
    "            \n",
    "        observation = self._get_obs()\n",
    "\n",
    "        if self.render_mode == \"human\":\n",
    "            self._render_frame()\n",
    "\n",
    "        return observation\n",
    "\n",
    "    def step(self, action, state = None,flag=False):\n",
    "        # Map the action (element of {0,1,2,3}) to the direction we walk in\n",
    "        if self.number_agents == 1:\n",
    "            direction = self._action_to_direction[action]\n",
    "        else:\n",
    "            direction = []\n",
    "            for n in range(self.number_agents):\n",
    "                direction.append(self._action_to_direction[action[n]])\n",
    "                \n",
    "        # We use `np.clip` to make sure we don't leave the grid\n",
    "        if state is None:    \n",
    "            if self.number_agents == 1:\n",
    "                self._agent_location = np.clip(\n",
    "                    self._agent_location + direction, 0, self.size - 1\n",
    "                )\n",
    "            else:\n",
    "                self._agent_location = [l for l in np.clip(\n",
    "                    np.array(self._agent_location) + np.array(direction), 0, self.size - 1\n",
    "                )]\n",
    "        else:\n",
    "            if self.number_agents == 1:\n",
    "                self._agent_location = np.clip(\n",
    "                    state + direction, 0, self.size - 1\n",
    "                )\n",
    "            else:\n",
    "                self._agent_location = [l for l in np.clip(\n",
    "                    state.reshape(-1,2) + np.array(direction), 0, self.size - 1\n",
    "                )]\n",
    "                           \n",
    "        # An episode is done iff the agent has reached the target\n",
    "        if self.number_agents == 1:\n",
    "            terminated = np.array_equal(self._agent_location, self._target_location[0]) \\\n",
    "                        or np.array_equal(self._agent_location, self._target_location[1]) \n",
    "            reward = 1 if terminated else 0  # Binary sparse rewards\n",
    "            observation = self._get_obs()\n",
    "        else:\n",
    "            terminated = []\n",
    "            for n in range(self.number_agents):\n",
    "                t = np.array_equal(self._agent_location[n], self._target_location[0]) \\\n",
    "                    or np.array_equal(self._agent_location[n], self._target_location[1]) \n",
    "                terminated.append(t)\n",
    "            observation = self._get_obs()\n",
    "            \n",
    "            # check for collisions which will produce bad reward\n",
    "            reward = -1\n",
    "            for c in itertools.combinations(range(self.number_agents),2):\n",
    "                if np.array_equal(self._agent_location[c[0]],self._agent_location[c[1]]):\n",
    "                    if np.any([np.array_equal(self._agent_location[c[0]],x) for x in self._target_location]):\n",
    "                        continue \n",
    "                    reward += -3\n",
    "                    \n",
    "            reward = 0 if np.all(np.array(terminated)) else reward\n",
    "            terminated = np.all(np.array(terminated))\n",
    "        \n",
    "        if self.render_mode == \"human\" and flag:\n",
    "            self._render_frame()\n",
    "\n",
    "        return observation, reward, terminated\n",
    "\n",
    "    def render(self):\n",
    "        if self.render_mode == \"rgb_array\":\n",
    "            return self._render_frame()\n",
    "\n",
    "    def _render_frame(self):\n",
    "        if self.window is None and self.render_mode == \"human\":\n",
    "            pygame.init()\n",
    "            pygame.display.init()\n",
    "            self.window = pygame.display.set_mode((self.window_size, self.window_size))\n",
    "        if self.clock is None and self.render_mode == \"human\":\n",
    "            self.clock = pygame.time.Clock()\n",
    "\n",
    "        canvas = pygame.Surface((self.window_size, self.window_size))\n",
    "        canvas.fill((255, 255, 255))\n",
    "        pix_square_size = (\n",
    "            self.window_size / self.size\n",
    "        )  # The size of a single grid square in pixels\n",
    "\n",
    "        # First we draw the target\n",
    "        pygame.draw.rect(\n",
    "            canvas,\n",
    "            (255, 0, 0),\n",
    "            pygame.Rect(\n",
    "                pix_square_size * self._target_location[0],\n",
    "                (pix_square_size, pix_square_size),\n",
    "            ),\n",
    "        )\n",
    "        pygame.draw.rect(\n",
    "            canvas,\n",
    "            (255, 0, 0),\n",
    "            pygame.Rect(\n",
    "                pix_square_size * self._target_location[1],\n",
    "                (pix_square_size, pix_square_size),\n",
    "            ),\n",
    "        )\n",
    "        # Now we draw the agent\n",
    "        if self.number_agents == 1:\n",
    "            pygame.draw.circle(\n",
    "                canvas,\n",
    "                (0, 0, 255),\n",
    "                (self._agent_location + 0.5) * pix_square_size,\n",
    "                pix_square_size / 3,\n",
    "            )\n",
    "        else:\n",
    "            for n in range(self.number_agents):\n",
    "                pygame.draw.circle(\n",
    "                canvas,\n",
    "                (0, 0, 255),\n",
    "                (self._agent_location[n] + 0.5) * pix_square_size,\n",
    "                pix_square_size / 3,\n",
    "            )\n",
    "            \n",
    "\n",
    "        # Finally, add some gridlines\n",
    "        for x in range(self.size + 1):\n",
    "            pygame.draw.line(\n",
    "                canvas,\n",
    "                0,\n",
    "                (0, pix_square_size * x),\n",
    "                (self.window_size, pix_square_size * x),\n",
    "                width=3,\n",
    "            )\n",
    "            pygame.draw.line(\n",
    "                canvas,\n",
    "                0,\n",
    "                (pix_square_size * x, 0),\n",
    "                (pix_square_size * x, self.window_size),\n",
    "                width=3,\n",
    "            )\n",
    "\n",
    "        if self.render_mode == \"human\":\n",
    "            # The following line copies our drawings from `canvas` to the visible window\n",
    "            self.window.blit(canvas, canvas.get_rect())\n",
    "            pygame.event.pump()\n",
    "            pygame.display.update()\n",
    "\n",
    "            # We need to ensure that human-rendering occurs at the predefined framerate.\n",
    "            # The following line will automatically add a delay to keep the framerate stable.\n",
    "            self.clock.tick(self.metadata[\"render_fps\"])\n",
    "        else:  # rgb_array\n",
    "            return np.transpose(\n",
    "                np.array(pygame.surfarray.pixels3d(canvas)), axes=(1, 0, 2)\n",
    "            )\n",
    "\n",
    "    def close(self):\n",
    "        if self.window is not None:\n",
    "            pygame.display.quit()\n",
    "            pygame.quit()"
   ]
  },
  {
   "cell_type": "code",
   "execution_count": 358,
   "id": "501ffe93",
   "metadata": {},
   "outputs": [
    {
     "data": {
      "text/plain": [
       "[array([4, 3]), array([2, 1])]"
      ]
     },
     "execution_count": 358,
     "metadata": {},
     "output_type": "execute_result"
    }
   ],
   "source": [
    "n = 2 #robots\n",
    "m = 5 # size of grid\n",
    "grid = MAGridWorldEnv(size=m, n_agents=n,render_mode=\"rgb_array\")\n",
    "\n",
    "grid.reset(0)\n",
    "#time.sleep(5)\n",
    "#grid.close()"
   ]
  },
  {
   "cell_type": "code",
   "execution_count": 359,
   "id": "4893879b",
   "metadata": {},
   "outputs": [
    {
     "data": {
      "image/png": "[encoded data removed]",
      "text/plain": [
       "<Figure size 432x288 with 1 Axes>"
      ]
     },
     "metadata": {
      "needs_background": "light"
     },
     "output_type": "display_data"
    }
   ],
   "source": [
    "plt.imshow(grid.render())\n",
    "plt.show()"
   ]
  },
  {
   "cell_type": "code",
   "execution_count": 360,
   "id": "d3ac659e",
   "metadata": {},
   "outputs": [
    {
     "data": {
      "text/plain": [
       "([array([3, 3]), array([3, 1])], -1, False)"
      ]
     },
     "execution_count": 360,
     "metadata": {},
     "output_type": "execute_result"
    }
   ],
   "source": [
    "grid.step(action=[2,0,1])"
   ]
  },
  {
   "cell_type": "code",
   "execution_count": 361,
   "id": "52e1566d",
   "metadata": {},
   "outputs": [
    {
     "data": {
      "image/png": "[encoded data removed]",
      "text/plain": [
       "<Figure size 432x288 with 1 Axes>"
      ]
     },
     "metadata": {
      "needs_background": "light"
     },
     "output_type": "display_data"
    }
   ],
   "source": [
    "plt.imshow(grid.render())\n",
    "plt.show()"
   ]
  },
  {
   "cell_type": "code",
   "execution_count": 362,
   "id": "ccd95e71",
   "metadata": {},
   "outputs": [
    {
     "data": {
      "text/plain": [
       "[3, 3, 3, 1]"
      ]
     },
     "execution_count": 362,
     "metadata": {},
     "output_type": "execute_result"
    }
   ],
   "source": [
    "np.vstack(grid._agent_location).flatten().tolist()"
   ]
  },
  {
   "cell_type": "markdown",
   "id": "060214ca",
   "metadata": {},
   "source": [
    "# Value Iteration with Greedy policy "
   ]
  },
  {
   "cell_type": "code",
   "execution_count": 363,
   "id": "98c3ccdb",
   "metadata": {},
   "outputs": [
    {
     "data": {
      "text/plain": [
       "(625, 4)"
      ]
     },
     "execution_count": 363,
     "metadata": {},
     "output_type": "execute_result"
    }
   ],
   "source": [
    "### state space, is a permutation with replacement\n",
    "### of m elements with 2*n dimention. \"cartesian product\"\n",
    "\n",
    "z = np.array(list(itertools.product(np.arange(m), repeat=2*n)))\n",
    "z.shape"
   ]
  },
  {
   "cell_type": "code",
   "execution_count": 364,
   "id": "3d10a346",
   "metadata": {},
   "outputs": [
    {
     "data": {
      "text/plain": [
       "(625, 4)"
      ]
     },
     "execution_count": 364,
     "metadata": {},
     "output_type": "execute_result"
    }
   ],
   "source": [
    "### another way to obtain the state space\n",
    "x = [np.arange(m)]*(2*n)\n",
    "y = np.array(np.meshgrid(*x)).T.reshape(-1,2*n)\n",
    "y.shape"
   ]
  },
  {
   "cell_type": "code",
   "execution_count": 365,
   "id": "63cfc9d2",
   "metadata": {},
   "outputs": [
    {
     "data": {
      "text/plain": [
       "(25, 2)"
      ]
     },
     "execution_count": 365,
     "metadata": {},
     "output_type": "execute_result"
    }
   ],
   "source": [
    "### actions\n",
    "a = np.array(list(itertools.product(np.arange(len(grid._action_to_direction)), repeat=n)))\n",
    "a.shape"
   ]
  },
  {
   "cell_type": "code",
   "execution_count": 366,
   "id": "78e72d64",
   "metadata": {},
   "outputs": [
    {
     "data": {
      "text/plain": [
       "(array([1, 4, 1, 0]), -0.5636225736540552)"
      ]
     },
     "execution_count": 366,
     "metadata": {},
     "output_type": "execute_result"
    }
   ],
   "source": [
    "dimension = [m]*2*n\n",
    "v = np.random.randn(*dimension)\n",
    "\n",
    "y[34,:],v[tuple(np.vstack(y[34,:]).flatten())]"
   ]
  },
  {
   "cell_type": "code",
   "execution_count": 367,
   "id": "5602c300",
   "metadata": {},
   "outputs": [],
   "source": [
    "def valueIteration_gridMA(env, size=3, n_agents=2, action=5, disc=0.5, epoch=10, theta=None, values = None):\n",
    "    env.render_mode = None\n",
    "    if values is None:\n",
    "        dimension = [size]*2*n_agents\n",
    "        v = np.zeros((dimension))\n",
    "    else:\n",
    "        v = values\n",
    "    states = np.array(list(itertools.product(np.arange(size), repeat=2*n_agents)))\n",
    "    actions = np.array(list(itertools.product(np.arange(action), repeat=n_agents)))\n",
    "    ap = 1/len(actions)\n",
    "    for i in range(epoch):\n",
    "        for s in states:\n",
    "            temp = np.zeros(actions.shape[0]) \n",
    "            for k,a in enumerate(actions):\n",
    "                n_state, reward, ter = env.step(a,s)\n",
    "                if ter:\n",
    "                    temp[k] = 0\n",
    "                else:\n",
    "                    temp[k] = ap * (reward + disc*v[tuple(np.vstack(n_state).flatten())]) \n",
    "            v[tuple(np.vstack(s).flatten())] = np.sum(temp)\n",
    "        print(i, end=' ')\n",
    "    return v"
   ]
  },
  {
   "cell_type": "code",
   "execution_count": 368,
   "id": "2ace4063",
   "metadata": {},
   "outputs": [
    {
     "name": "stdout",
     "output_type": "stream",
     "text": [
      "0 1 2 3 4 5 6 7 8 9 "
     ]
    }
   ],
   "source": [
    "values = valueIteration_gridMA(grid,m,n)"
   ]
  },
  {
   "cell_type": "code",
   "execution_count": 376,
   "id": "712ed362",
   "metadata": {},
   "outputs": [],
   "source": [
    "def simulation(env, policy, actions):\n",
    "    env.render_mode = \"human\"\n",
    "    T = 30 ### number of steps in one episode\n",
    "    state = env.reset()\n",
    "    for t in range(T):\n",
    "        best = np.zeros(actions.shape[0])\n",
    "        for k,a in enumerate(actions):\n",
    "            n_state, reward, _ = env.step(a,np.array(state))\n",
    "            best[k] = policy[tuple(np.vstack(n_state).flatten())]\n",
    "        act = np.argmax(best)\n",
    "        state, _, ter = env.step(actions[act],np.array(state), True)\n",
    "        if ter:\n",
    "            break\n",
    "    env.close()\n",
    "\n",
    "simulation(grid,values,a)"
   ]
  },
  {
   "cell_type": "code",
   "execution_count": null,
   "id": "889f24c7",
   "metadata": {},
   "outputs": [],
   "source": []
  }
 ],
 "metadata": {
  "kernelspec": {
   "display_name": "Python 3 (ipykernel)",
   "language": "python",
   "name": "python3"
  },
  "language_info": {
   "codemirror_mode": {
    "name": "ipython",
    "version": 3
   },
   "file_extension": ".py",
   "mimetype": "text/x-python",
   "name": "python",
   "nbconvert_exporter": "python",
   "pygments_lexer": "ipython3",
   "version": "3.9.12"
  }
 },
 "nbformat": 4,
 "nbformat_minor": 5
}
